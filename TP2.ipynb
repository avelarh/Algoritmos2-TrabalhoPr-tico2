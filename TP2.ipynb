{
 "cells": [
  {
   "cell_type": "code",
   "execution_count": 17,
   "metadata": {},
   "outputs": [],
   "source": [
    "import matplotlib.pyplot as plt\n",
    "import networkx as nx\n",
    "import numpy as np\n",
    "import math"
   ]
  },
  {
   "cell_type": "markdown",
   "metadata": {},
   "source": [
    "## Algoritmos ##"
   ]
  },
  {
   "cell_type": "markdown",
   "metadata": {},
   "source": [
    "### Branch and bound ###"
   ]
  },
  {
   "cell_type": "code",
   "execution_count": 18,
   "metadata": {},
   "outputs": [],
   "source": [
    "class Node:\n",
    "    def __init__(self, bound, boundEdges, cost, solution):\n",
    "        self.bound = bound\n",
    "        self.boundEdges = boundEdges\n",
    "        self.cost = cost\n",
    "        self.solution = solution\n",
    "    \n",
    "    def __lt__(self, other):\n",
    "        if len(self.solution) == len(other.solution):\n",
    "            return self.bound < other.bound\n",
    "        return len(self.solution) > len(other.solution)\n",
    "    def __repr__(self) -> str:\n",
    "        return f\"Node({self.bound}, {self.boundEdges}, {self.cost}, {self.solution})\"\n",
    "\n",
    "def findTwoMinimalEdges(list):\n",
    "    min1 = np.inf\n",
    "    min2 = np.inf\n",
    "    for j in list:\n",
    "        if list[j]['weight'] < min1:\n",
    "            min2 = min1\n",
    "            min1 = list[j]['weight']\n",
    "        elif list[j]['weight'] < min2:\n",
    "            min2 = list[j]['weight']\n",
    "    return min1, min2\n",
    "\n",
    "def findInitialBound(A):\n",
    "    bound = 0\n",
    "    initialBoundEdges = np.zeros((A.number_of_nodes(), 2), dtype=list)\n",
    "    for i in range(A.number_of_nodes()):\n",
    "        min1, min2 = findTwoMinimalEdges(A[i])\n",
    "        initialBoundEdges[i][0] = min1\n",
    "        initialBoundEdges[i][1] = min2\n",
    "        bound += min1 + min2\n",
    "    return bound / 2, initialBoundEdges\n",
    "\n",
    "def findBound(A, solution, boundEdges, bound):\n",
    "    changedEdges = np.zeros(A.number_of_nodes(), dtype=int)\n",
    "    newEdges = np.array(boundEdges)\n",
    "    edgeWeight = A[solution[-2]][solution[-1]]['weight']\n",
    "    sum = bound * 2\n",
    "    if newEdges[solution[-2]][0] != edgeWeight:\n",
    "        if changedEdges[solution[-2]] == 0:\n",
    "            sum -= newEdges[solution[-2]][1]\n",
    "            sum += edgeWeight\n",
    "        else:\n",
    "            sum -= newEdges[solution[-2]][0]\n",
    "            sum += edgeWeight\n",
    "        changedEdges[solution[-2]] += 1\n",
    "    if newEdges[solution[-1]][0] != edgeWeight:\n",
    "        if changedEdges[solution[-1]] == 0:\n",
    "            sum -= newEdges[solution[-1]][1]\n",
    "            sum += edgeWeight\n",
    "        else:\n",
    "            sum -= newEdges[solution[-1]][0]\n",
    "            sum += edgeWeight\n",
    "        changedEdges[solution[-1]] += 1\n",
    "    return sum / 2, newEdges\n",
    "from heapq import heappush, heappop\n",
    "\n",
    "def branchAndBoundTSP(A):\n",
    "    initialBound, initialBoundEdges = findInitialBound(A)\n",
    "    root = Node(initialBound, initialBoundEdges, 0, [0])\n",
    "    heap = []\n",
    "    heappush(heap, root)\n",
    "    best = np.inf\n",
    "    solution = []\n",
    "    nodeCount = 0\n",
    "    while heap:\n",
    "        node = heappop(heap)\n",
    "        nodeCount += 1\n",
    "        level = len(node.solution)\n",
    "        if level > A.number_of_nodes():\n",
    "            if best > node.cost:\n",
    "                best = node.cost\n",
    "                solution = node.solution\n",
    "        else:\n",
    "            if node.bound < best:\n",
    "                if level < A.number_of_nodes() - 2:\n",
    "                    for k in range(1, A.number_of_nodes()):\n",
    "                        if k == node.solution[-1] or k == 0:\n",
    "                            continue\n",
    "                        edgeWeight = A[node.solution[-1]][k]['weight']\n",
    "                        newBound, newEdges = findBound(A, node.solution + [k], node.boundEdges, node.bound) \n",
    "                        if k not in node.solution and newBound < best:\n",
    "                            newNode = Node(newBound, newEdges, node.cost + edgeWeight, node.solution + [k])\n",
    "                            if k == 2:\n",
    "                                if 1 not in node.solution:  \n",
    "                                    continue \n",
    "                            heappush(heap, newNode)\n",
    "                else:\n",
    "                    for k in range(1, A.number_of_nodes()):\n",
    "                        if k == node.solution[-1] or k == 0:\n",
    "                            continue\n",
    "                        lastNode = 0\n",
    "                        for i in range(1, A.number_of_nodes()):\n",
    "                            if i not in node.solution + [k] and k != i:\n",
    "                                lastNode = i\n",
    "                                break\n",
    "                        edgeWeight = A[node.solution[-1]][k]['weight']\n",
    "                        nextEdgeWeight = A[k][lastNode]['weight']\n",
    "                        lastEdgeWeight = A[lastNode][0]['weight']\n",
    "                        cost = node.cost + edgeWeight + nextEdgeWeight + lastEdgeWeight\n",
    "                        if k not in node.solution and cost < best:\n",
    "                            newNode = Node(cost, [], cost, node.solution + [k, lastNode, 0])\n",
    "                            heappush(heap, newNode)\n",
    "    return best, solution"
   ]
  },
  {
   "cell_type": "markdown",
   "metadata": {},
   "source": [
    "### Twice around the tree ###"
   ]
  },
  {
   "cell_type": "code",
   "execution_count": 19,
   "metadata": {},
   "outputs": [],
   "source": [
    "def twiceAroundTheTreeTSP(A):\n",
    "    MST = nx.minimum_spanning_tree(A)\n",
    "    path = list(nx.dfs_preorder_nodes(MST, 1))\n",
    "    path.append(path[0])\n",
    "    weight = sum(A[path[i]][path[i + 1]]['weight'] for i in range(len(path) - 1))\n",
    "\n",
    "    return weight, path"
   ]
  },
  {
   "cell_type": "markdown",
   "metadata": {},
   "source": [
    "### Christofides ###"
   ]
  },
  {
   "cell_type": "code",
   "execution_count": 20,
   "metadata": {},
   "outputs": [],
   "source": [
    "def shortcutPath(A):\n",
    "    path = [x[0] for x in nx.eulerian_circuit(A, 1)]\n",
    "    return list(dict.fromkeys(path)) + [path[0]]\n",
    "\n",
    "def christofidesTSP(A):\n",
    "    MST = nx.minimum_spanning_tree(A)\n",
    "    oddnodes = [node for node, degree in nx.degree(MST) if degree % 2 == 1]\n",
    "    pairing = nx.min_weight_matching(nx.subgraph(A, oddnodes))\n",
    "\n",
    "    mst = nx.MultiGraph(MST)\n",
    "    mst.add_edges_from((node1, node2, A[node1][node2]) for node1, node2 in pairing)\n",
    "\n",
    "    path = shortcutPath(mst)\n",
    "    peso = sum(A[path[i]][path[i + 1]]['weight'] for i in range(len(path) - 1))\n",
    "\n",
    "    return peso, path"
   ]
  },
  {
   "cell_type": "markdown",
   "metadata": {},
   "source": [
    "## Testes ##"
   ]
  },
  {
   "cell_type": "markdown",
   "metadata": {},
   "source": [
    "### Funções para cálculo de métricas"
   ]
  },
  {
   "cell_type": "code",
   "execution_count": 21,
   "metadata": {},
   "outputs": [],
   "source": [
    "from memory_profiler import memory_usage\n",
    "import time\n",
    "import numpy as np\n",
    "import csv\n",
    "\n",
    "def runAlgorithm(algorithm, data, best_weight):\n",
    "    start_time = time.time()\n",
    "    end_time = 30 * 60  # 30 minutos em segundos\n",
    "    result_dict = {\n",
    "        'algorithm': algorithm.__name__,\n",
    "        'weight': None,\n",
    "        'runtime': None,\n",
    "        'memory_use': None,\n",
    "        'deviation': None\n",
    "    }\n",
    "\n",
    "    try:\n",
    "        memory_use = memory_usage((algorithm, (data,)))\n",
    "        result = algorithm(data)\n",
    "        tempo_fim = time.time()\n",
    "\n",
    "        runtime = tempo_fim - start_time\n",
    "        if runtime > end_time:\n",
    "            raise TimeoutError\n",
    "\n",
    "        weight_algorithm = result[0]\n",
    "        deviation = ((weight_algorithm - best_weight) / best_weight) * 100\n",
    "\n",
    "        result_dict.update({\n",
    "            'weight': weight_algorithm,\n",
    "            'runtime': runtime,\n",
    "            'memory_use': np.max(memory_use),\n",
    "            'deviation': deviation\n",
    "        })\n",
    "\n",
    "        return result_dict\n",
    "    except TimeoutError:\n",
    "        result_dict['weight'] = \"NA\"\n",
    "        return result_dict\n",
    "    \n",
    "def save_csv(data, filename, dataset_name, city_count):\n",
    "    with open(filename, mode='a', newline='') as file:\n",
    "        writer = csv.writer(file)\n",
    "        # Escreve o cabeçalho se o arquivo estiver vazio\n",
    "        if file.tell() == 0:\n",
    "            writer.writerow(['dataset', 'number of cities', 'algorithm', 'weight', 'runtime', 'memory use', 'deviation'])\n",
    "\n",
    "        writer.writerow([dataset_name, city_count, data['algorithm'], data['weight'],\n",
    "                         data['runtime'], data['memory_use'], data['deviation']])"
   ]
  },
  {
   "cell_type": "markdown",
   "metadata": {},
   "source": [
    "### Funções para carregamento dos datasets e montagem dos grafos"
   ]
  },
  {
   "cell_type": "code",
   "execution_count": 22,
   "metadata": {},
   "outputs": [],
   "source": [
    "import tsplib95\n",
    "\n",
    "def load_tsp(caminho_arquivo):\n",
    "    problema = tsplib95.load(caminho_arquivo)\n",
    "    grafo = problema.get_graph()\n",
    "    return grafo\n",
    "\n",
    "def load_best(caminho_arquivo):\n",
    "    with open(caminho_arquivo, 'r') as file:\n",
    "        linhas = file.readlines()\n",
    "        tour = [int(linha.strip()) for linha in linhas if linha.strip().isdigit()]\n",
    "    return tour\n",
    "\n",
    "def find_best_weight(grafo, tour_optima):\n",
    "    peso_total = 0\n",
    "    for i in range(len(tour_optima) - 1):\n",
    "        peso_total += grafo[tour_optima[i]][tour_optima[i + 1]]['weight']\n",
    "    peso_total += grafo[tour_optima[-1]][tour_optima[0]]['weight']\n",
    "    return peso_total"
   ]
  },
  {
   "cell_type": "markdown",
   "metadata": {},
   "source": [
    "### Executa testes nos datasets"
   ]
  },
  {
   "cell_type": "code",
   "execution_count": 23,
   "metadata": {},
   "outputs": [
    {
     "name": "stdout",
     "output_type": "stream",
     "text": [
      "Running berlin52 with 52 cities, twiceAroundTheTreeTSP\n",
      "Running berlin52 with 52 cities, christofidesTSP\n",
      "Running kroA100 with 100 cities, twiceAroundTheTreeTSP\n",
      "Running kroA100 with 100 cities, christofidesTSP\n",
      "Running pa561 with 561 cities, twiceAroundTheTreeTSP\n",
      "Running pa561 with 561 cities, christofidesTSP\n",
      "Running pcb442 with 442 cities, twiceAroundTheTreeTSP\n",
      "Running pcb442 with 442 cities, christofidesTSP\n",
      "Running tsp225 with 225 cities, twiceAroundTheTreeTSP\n",
      "Running tsp225 with 225 cities, christofidesTSP\n"
     ]
    }
   ],
   "source": [
    "\n",
    "import os \n",
    "\n",
    "datasets = os.listdir('../Algoritmos2-TrabalhoPr-tico2/datasets')\n",
    "datasets = [f for f in datasets if f.endswith('.tsp')]\n",
    "datasets = [f.replace('.tsp', '') for f in datasets]\n",
    "\n",
    "csv_name = 'results_tsp.csv'\n",
    "\n",
    "for i in range(len(datasets)):\n",
    "\n",
    "    dataset_name = datasets[i]\n",
    "\n",
    "    graph = load_tsp(f'../Algoritmos2-TrabalhoPr-tico2/datasets/{dataset_name}.tsp')\n",
    "    best_tour = load_best(f'../Algoritmos2-TrabalhoPr-tico2/datasets/{dataset_name}.opt.tour')\n",
    "    best_weight = find_best_weight(graph, best_tour)\n",
    "\n",
    "    num_cities = len(graph.nodes)\n",
    "\n",
    "    if num_cities <= 15:\n",
    "        print(f'Running {dataset_name} with {num_cities} cities, branch and bound')\n",
    "        result = runAlgorithm(branchAndBoundTSP, graph, best_weight)\n",
    "        save_csv(result, csv_name, dataset_name, num_cities)\n",
    "\n",
    "    for algorithm in [twiceAroundTheTreeTSP, christofidesTSP]:\n",
    "        print(f'Running {dataset_name} with {num_cities} cities, {algorithm.__name__}')\n",
    "        result = runAlgorithm(algorithm, graph, best_weight)\n",
    "        save_csv(result, csv_name, dataset_name, num_cities)"
   ]
  },
  {
   "cell_type": "markdown",
   "metadata": {},
   "source": [
    "### Análise de resultados e plotagem de gráficos\n"
   ]
  },
  {
   "cell_type": "code",
   "execution_count": 28,
   "metadata": {},
   "outputs": [
    {
     "name": "stdout",
     "output_type": "stream",
     "text": [
      "mean deviation for twiceAroundTheTreeTSP: 34.70%\n",
      "mean deviation for christofidesTSP: 16.47%\n"
     ]
    }
   ],
   "source": [
    "import pandas as pd\n",
    "import matplotlib.pyplot as plt\n",
    "import os\n",
    "\n",
    "if not os.path.exists('img'):\n",
    "    os.makedirs('img')\n",
    "\n",
    "df = pd.read_csv('./results_tsp.csv')\n",
    "\n",
    "def plot_results(df, y_col, y_label, title, file_name):\n",
    "    plt.figure(figsize=(12, 8))\n",
    "    for algorithm in df['algorithm'].unique():\n",
    "        df_alg = df[df['algorithm'] == algorithm]\n",
    "        df_grouped = df_alg.groupby('number of cities')[y_col].mean()\n",
    "        plt.plot(df_grouped, label=algorithm, marker='o', linestyle='dashed', linewidth=2, markersize=8)\n",
    "    plt.xlabel('dataset size (number of cities)')\n",
    "    plt.ylabel(y_label)\n",
    "    plt.title(title)\n",
    "    plt.legend()\n",
    "    plt.savefig(f'img/{file_name}.png')\n",
    "    plt.close()\n",
    "\n",
    "plot_results(df, 'runtime', 'mean runtime (s)', \n",
    "               'runtime by dataset size', 'runtime')\n",
    "\n",
    "plot_results(df, 'memory use', 'mean memory use (MB)', \n",
    "               'memory use by dataset size', 'memory_use')\n",
    "\n",
    "for algorithm in df['algorithm'].unique():\n",
    "    mean_deviation = df[df['algorithm'] == algorithm]['deviation'].mean()\n",
    "    print(f\"mean deviation for {algorithm}: {mean_deviation:.2f}%\")"
   ]
  }
 ],
 "metadata": {
  "kernelspec": {
   "display_name": "myenv",
   "language": "python",
   "name": "python3"
  },
  "language_info": {
   "codemirror_mode": {
    "name": "ipython",
    "version": 3
   },
   "file_extension": ".py",
   "mimetype": "text/x-python",
   "name": "python",
   "nbconvert_exporter": "python",
   "pygments_lexer": "ipython3",
   "version": "3.9.7"
  }
 },
 "nbformat": 4,
 "nbformat_minor": 2
}
